{
 "cells": [
  {
   "cell_type": "code",
   "execution_count": 1,
   "id": "083e1601-040c-4205-9f53-d3d6e6bb0c82",
   "metadata": {},
   "outputs": [],
   "source": [
    "import numpy as np\n",
    "import pandas as pd\n",
    "import pickle\n",
    "\n",
    "from sklearn.impute import SimpleImputer\n",
    "from scipy.stats.mstats import winsorize"
   ]
  },
  {
   "cell_type": "code",
   "execution_count": 2,
   "id": "8c674c78-bc05-4aba-87d0-1dbf54415115",
   "metadata": {},
   "outputs": [],
   "source": [
    "# Define \"micro-stocks\" as any stock not within the top micro_stock_limit percent of market capitalization\n",
    "# when sorting stocks in descending order of market cap.\n",
    "micro_stock_limit = .98\n",
    "\n",
    "# Specify the maximum percentage of NaNs tolerable to still use a particular feature for a particular month.\n",
    "use_feature_limit = .1\n",
    "\n",
    "# Specify the percentage of feature data on each extreme to winsorize.\n",
    "winsorize_limits = (.01, .01)"
   ]
  },
  {
   "cell_type": "code",
   "execution_count": 6,
   "id": "3ebfd250-7cdf-4bbe-89fc-ba5406338c92",
   "metadata": {},
   "outputs": [],
   "source": [
    "def full_index(start, end):\n",
    "    '''\n",
    "    Return a full list of all months between start and end in yyyymm string format.\n",
    "    '''\n",
    "    start_year = int(str(start)[:-2])\n",
    "    end_year = int(str(end)[:-2])\n",
    "    start_month = int(str(start)[-2:])\n",
    "    end_month = int(str(end)[-2:])\n",
    "    return [\n",
    "        int(str(y) + str(m + 1).rjust(2, \"0\"))\n",
    "        for y, m in [\n",
    "            divmod(ym, 12)\n",
    "            for ym in range(12 * start_year + start_month - 1, 12 * end_year + end_month)\n",
    "        ]\n",
    "    ]\n",
    "\n",
    "def lag_returns(df):\n",
    "    '''\n",
    "    Lag the \"ret\" column so that it behaves as a dependent variable for prediction.\n",
    "    df must contain observations associated with one stock only.\n",
    "    '''\n",
    "    df.index = df.index.droplevel(\"permno\")\n",
    "    df = df.reindex(full_index(df.index.min(), df.index.max()))\n",
    "    df.ret = df.ret.shift(-1)\n",
    "    return df.dropna(subset=\"ret\")\n",
    "\n",
    "def clean_monthly_data(df):\n",
    "    '''\n",
    "    First, filter out \"micro-stocks\", defined as stocks occupying the bottom 2% of cumulative\n",
    "    market cap of all stocks, sorted in descending order of market cap. Then, apply clean_signal_data\n",
    "    to each individual signal.\n",
    "    '''\n",
    "    df.index = df.index.droplevel(\"yyyymm\")\n",
    "    df = df.sort_values(by=\"Size\")\n",
    "    df = df.assign(cumsize=np.exp(-df[\"Size\"]).cumsum())\n",
    "    return df[df[\"cumsize\"] < micro_stock_limit * np.exp(-df[\"Size\"]).sum()] \\\n",
    "        .drop(labels=\"cumsize\", axis=1) \\\n",
    "        .apply(clean_signal_data)\n",
    "\n",
    "def clean_signal_data(series):\n",
    "    '''\n",
    "    If this signal's data series is at least 90% complete (contains fewer than 10% NANs), impute the\n",
    "    remaining NANs. Otherwise, do nothing, since this feature will be discarded during backtesting if\n",
    "    even a single NAN is present.\n",
    "    '''\n",
    "    if series.name in is_continuous_signal and series.isna().sum() < use_feature_limit * series.shape[0]:\n",
    "        simple_imputer = SimpleImputer(strategy=\"mean\" if is_continuous_signal[series.name] else \"most_frequent\")\n",
    "        imputed_series = pd.Series(simple_imputer.fit_transform(series.values.reshape([-1, 1])).reshape([-1]), index=series.index)\n",
    "        return winsorize(imputed_series, winsorize_limits)\n",
    "    else:\n",
    "        return series"
   ]
  },
  {
   "cell_type": "code",
   "execution_count": 7,
   "id": "8abbc35d-19f9-465c-8371-e51b38479ccc",
   "metadata": {},
   "outputs": [],
   "source": [
    "# Import a list of all signals, and whether they are a continuous or discrete signal\n",
    "signal_doc = pd.read_csv(\"data/SignalDoc.csv\")\n",
    "is_continuous_signal = (signal_doc[signal_doc[\"Cat.Signal\"] == \"Predictor\"].set_index(\"Acronym\")[\"Cat.Form\"] == \"continuous\").to_dict()\n",
    "\n",
    "# Import joined dataset of signals and prices\n",
    "df = pd.read_csv(\"data/predictors_returns_joined.csv\", index_col=[\"permno\", \"yyyymm\"])"
   ]
  },
  {
   "cell_type": "code",
   "execution_count": 8,
   "id": "64fcd716-b0dd-4694-bf13-2cf8aaabdc15",
   "metadata": {},
   "outputs": [],
   "source": [
    "# Exclude non-common shares\n",
    "df = df[df[\"shrcd\"].isin([10, 11])]\n",
    "\n",
    "# Exclude financial shares\n",
    "df = df[~df[\"siccd\"].between(6000, 6999)]\n",
    "\n",
    "# Exclude low liquidity stocks\n",
    "df = df[df[\"prc\"] > 0]\n",
    "\n",
    "# Perform some basic cleaning and apply the functions defined above\n",
    "df = df.drop(labels=[\"shrcd\", \"siccd\", \"prc\"], axis=1) \\\n",
    "    .replace([np.inf, -np.inf], np.nan) \\\n",
    "    .groupby(\"permno\").apply(lag_returns) \\\n",
    "    .groupby(\"yyyymm\").apply(clean_monthly_data)"
   ]
  },
  {
   "cell_type": "code",
   "execution_count": null,
   "id": "95cc9ba1-9e0e-42e4-9db3-f16bfeaefd09",
   "metadata": {},
   "outputs": [],
   "source": [
    "# Save cleaned data\n",
    "df.to_csv(\"data/cleaned_data.csv\")\n",
    "\n",
    "# Save a dictionary of whether each signal is a continuous or discrete signal\n",
    "with open(\"data/is_continuous_signal.pkl\", \"wb\") as f:\n",
    "    pickle.dump(is_continuous_signal, f)"
   ]
  },
  {
   "cell_type": "code",
   "execution_count": null,
   "id": "2d506da7-4766-4bcc-bc62-a423b520c280",
   "metadata": {},
   "outputs": [],
   "source": []
  }
 ],
 "metadata": {
  "kernelspec": {
   "display_name": "Python 3 (ipykernel)",
   "language": "python",
   "name": "python3"
  },
  "language_info": {
   "codemirror_mode": {
    "name": "ipython",
    "version": 3
   },
   "file_extension": ".py",
   "mimetype": "text/x-python",
   "name": "python",
   "nbconvert_exporter": "python",
   "pygments_lexer": "ipython3",
   "version": "3.8.0"
  }
 },
 "nbformat": 4,
 "nbformat_minor": 5
}
