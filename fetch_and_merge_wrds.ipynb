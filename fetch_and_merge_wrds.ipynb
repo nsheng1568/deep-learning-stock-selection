{
 "cells": [
  {
   "cell_type": "code",
   "execution_count": 1,
   "id": "f20407ab-8eac-4951-993b-98424c817634",
   "metadata": {},
   "outputs": [],
   "source": [
    "import wrds\n",
    "import numpy as np\n",
    "import pandas as pd"
   ]
  },
  {
   "cell_type": "code",
   "execution_count": 2,
   "id": "02e5a00f-a286-485c-851c-5deb2ef3349a",
   "metadata": {},
   "outputs": [
    {
     "name": "stdout",
     "output_type": "stream",
     "text": [
      "Loading library list...\n",
      "Done\n"
     ]
    }
   ],
   "source": [
    "conn = wrds.Connection()"
   ]
  },
  {
   "cell_type": "code",
   "execution_count": 3,
   "id": "eb566084-d4dc-408a-b88b-6845a4248e66",
   "metadata": {},
   "outputs": [],
   "source": [
    "crspm = conn.raw_sql('''\n",
    "select a.permno, a.date, a.ret, a.shrout, a.prc, \n",
    "b.shrcd, b.exchcd, b.siccd,\n",
    "c.dlstcd, c.dlret\n",
    "from crsp.msf as a\n",
    "left join crsp.msenames as b\n",
    "on a.permno=b.permno\n",
    "and b.namedt<=a.date\n",
    "and a.date<=b.nameendt\n",
    "left join crsp.msedelist as c\n",
    "on a.permno=c.permno\n",
    "and date_trunc('month', a.date) = date_trunc('month', c.dlstdt)\n",
    "''')"
   ]
  },
  {
   "cell_type": "code",
   "execution_count": 4,
   "id": "9400e087-1b30-4c32-b935-2fa71426afb4",
   "metadata": {},
   "outputs": [],
   "source": [
    "conn.close()"
   ]
  },
  {
   "cell_type": "code",
   "execution_count": 5,
   "id": "29ed64cb-56c1-40f8-b5f0-a1250f75a87e",
   "metadata": {},
   "outputs": [],
   "source": [
    "crspm.dlret = crspm.dlret.where(~(crspm.dlret.isna() & ((crspm.dlstcd == 500) | crspm.dlstcd.between(520, 584)) & crspm.exchcd.isin([1, 2])), -0.35)\n",
    "crspm.dlret = crspm.dlret.where(~(crspm.dlret.isna() & ((crspm.dlstcd == 500) | crspm.dlstcd.between(520, 584)) & (crspm.exchcd == 3)), -0.55)\n",
    "crspm.dlret = crspm.dlret.where(crspm.dlret.isna() | (crspm.dlret >= -1), -1)\n",
    "crspm.dlret = crspm.dlret.where(crspm.dlret.notna(), 0)\n",
    "crspm.ret = (1 + crspm.ret) * (1 + crspm.dlret) - 1\n",
    "crspm.ret = crspm.dlret.where(crspm.ret.isna() & (crspm.dlret != 0), crspm.ret)\n",
    "crspm.permno = crspm.permno.astype(int)\n",
    "crspm[\"yyyymm\"] = pd.to_datetime(crspm.date).dt.strftime(\"%Y%m\").astype(int)\n",
    "crspm[\"STreversal\"] = -100 * crspm.ret.where(crspm.ret.notna(), 0)\n",
    "crspm[\"Price\"] = -np.log(crspm.prc.abs())\n",
    "with np.errstate(divide=\"ignore\"):\n",
    "    crspm[\"Size\"] = -np.log(crspm.prc.abs() * crspm.shrout)"
   ]
  },
  {
   "cell_type": "code",
   "execution_count": 6,
   "id": "758241f2-b007-4097-a952-d5215227a465",
   "metadata": {},
   "outputs": [],
   "source": [
    "crspm = crspm.drop(labels=[\"date\", \"shrout\", \"exchcd\", \"dlstcd\", \"dlret\"], axis=1)"
   ]
  },
  {
   "cell_type": "code",
   "execution_count": 7,
   "id": "9e7b7ef6-3904-4385-bfec-1e12e533581b",
   "metadata": {},
   "outputs": [],
   "source": [
    "predictors = pd.read_csv(\"data/signed_predictors_dl_wide.csv\")"
   ]
  },
  {
   "cell_type": "code",
   "execution_count": 14,
   "id": "23fa61c4-b69a-4a2d-af43-68caa8464322",
   "metadata": {},
   "outputs": [],
   "source": [
    "joined = crspm.set_index([\"permno\", \"yyyymm\"]).join(predictors.set_index([\"permno\", \"yyyymm\"]), how=\"inner\")"
   ]
  },
  {
   "cell_type": "code",
   "execution_count": 17,
   "id": "cc439edd-7811-4368-834d-089bd620d6a7",
   "metadata": {},
   "outputs": [],
   "source": [
    "joined.to_csv(\"data/predictors_returns_joined.csv\")"
   ]
  },
  {
   "cell_type": "code",
   "execution_count": null,
   "id": "94fa90e4-940f-4f40-b637-472c1f580e09",
   "metadata": {},
   "outputs": [],
   "source": []
  }
 ],
 "metadata": {
  "kernelspec": {
   "display_name": "Python 3 (ipykernel)",
   "language": "python",
   "name": "python3"
  },
  "language_info": {
   "codemirror_mode": {
    "name": "ipython",
    "version": 3
   },
   "file_extension": ".py",
   "mimetype": "text/x-python",
   "name": "python",
   "nbconvert_exporter": "python",
   "pygments_lexer": "ipython3",
   "version": "3.8.0"
  }
 },
 "nbformat": 4,
 "nbformat_minor": 5
}
